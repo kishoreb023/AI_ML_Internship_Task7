{
 "cells": [
  {
   "cell_type": "markdown",
   "id": "2980e16d-1cdb-48bd-8e68-58a561a1dec7",
   "metadata": {},
   "source": [
    "# Task 7: Support Vector Machines (SVM)"
   ]
  },
  {
   "cell_type": "markdown",
   "id": "bcabd390-a998-4095-a082-2817c9846539",
   "metadata": {},
   "source": [
    "# AI & ML INTERNSHIP - TASK 7 🔍\n",
    "## 🧠 Support Vector Machines (SVM)\n",
    "\n",
    "![GitHub](https://img.shields.io/badge/Model-SVM-blue)\n",
    "![Python](https://img.shields.io/badge/Language-Python3-orange)\n",
    "![Status](https://img.shields.io/badge/Status-Completed-brightgreen)\n",
    "\n",
    "### 📌 Objective:\n",
    "Build a binary classifier using Support Vector Machines with both linear and RBF kernels using the Breast Cancer Dataset.\n",
    "\n",
    "---\n",
    "\n",
    "### ✅ Key Steps:\n",
    "- Load and preprocess Breast Cancer dataset\n",
    "- Train-test split\n",
    "- Train SVM with Linear & RBF Kernels\n",
    "- Hyperparameter tuning (C, Gamma)\n",
    "- Decision boundary visualization\n",
    "- Cross-validation for model evaluation\n",
    "\n",
    "---\n",
    "\n",
    "### 🛠 Tools & Libraries:\n",
    "- Scikit-learn\n",
    "- Pandas\n",
    "- NumPy\n",
    "- Matplotlib\n",
    "\n",
    "---\n",
    "\n",
    "### 📈 Results:\n",
    "Achieved high accuracy with tuned parameters using the RBF kernel. The decision boundary visualization shows clear classification margins.\n",
    "\n",
    "---\n",
    "\n",
    "### 📁 Files Included:\n",
    "- `Task7_SVM_BreastCancer.ipynb`\n",
    "- `breast_cancer.csv`\n",
    "- `README.md`\n",
    "\n",
    "---\n",
    "\n",
    "### 🔍 What You'll Learn:\n",
    "- How SVM separates classes with margin\n",
    "- Role of C and Gamma in performance\n",
    "- Visualizing decision boundaries\n",
    "- Kernel tricks in classification\n",
    "\n",
    "---\n",
    "\n",
    "### 📄 License:\n",
    "MIT License\n"
   ]
  },
  {
   "cell_type": "markdown",
   "id": "1c813b9b-9529-4f3c-b53a-3a54893bf548",
   "metadata": {},
   "source": [
    "# 🧩 Step 1: Import Required Libraries"
   ]
  },
  {
   "cell_type": "code",
   "execution_count": 1,
   "id": "2303f0bf-80d9-45ef-a205-2f9ac98df820",
   "metadata": {},
   "outputs": [],
   "source": [
    "import numpy as np\n",
    "import pandas as pd\n",
    "import matplotlib.pyplot as plt\n",
    "import seaborn as sns\n",
    "from sklearn import datasets\n",
    "from sklearn.model_selection import train_test_split, cross_val_score\n",
    "from sklearn.preprocessing import StandardScaler\n",
    "from sklearn.svm import SVC\n",
    "from sklearn.metrics import classification_report, confusion_matrix, accuracy_score\n",
    "import pickle"
   ]
  },
  {
   "cell_type": "markdown",
   "id": "b014516e-8f1d-4119-9d4b-656c0b3e8ac1",
   "metadata": {},
   "source": [
    "# 📥 Step 2: Load the Breast Cancer Dataset"
   ]
  },
  {
   "cell_type": "code",
   "execution_count": 3,
   "id": "e91ab058-e8e7-42f1-ac1e-4921a4120dbc",
   "metadata": {},
   "outputs": [],
   "source": [
    "data = datasets.load_breast_cancer()\n",
    "X = pd.DataFrame(data.data, columns=data.feature_names)\n",
    "y = pd.Series(data.target)\n"
   ]
  },
  {
   "cell_type": "markdown",
   "id": "c1220a95-6061-4f79-898c-3d390a26be61",
   "metadata": {},
   "source": [
    "# 🧹 Step 3: Preprocessing - Train/Test Split and Scaling"
   ]
  },
  {
   "cell_type": "code",
   "execution_count": 4,
   "id": "a2f83253-e134-4046-8822-4ffce88d6e81",
   "metadata": {},
   "outputs": [],
   "source": [
    "X_train, X_test, y_train, y_test = train_test_split(X, y, test_size=0.2, random_state=42)\n",
    "scaler = StandardScaler()\n",
    "X_train_scaled = scaler.fit_transform(X_train)\n",
    "X_test_scaled = scaler.transform(X_test)"
   ]
  },
  {
   "cell_type": "markdown",
   "id": "27ed8587-0169-4c10-b6a7-6d4e0b4ed1a0",
   "metadata": {},
   "source": [
    "# 🔍 Step 4: Train SVM with Linear Kernel"
   ]
  },
  {
   "cell_type": "code",
   "execution_count": 5,
   "id": "12ee4c95-a499-4c5d-93fe-e0660e4cfbde",
   "metadata": {},
   "outputs": [],
   "source": [
    "linear_svm = SVC(kernel='linear', C=1.0)\n",
    "linear_svm.fit(X_train_scaled, y_train)\n",
    "y_pred_linear = linear_svm.predict(X_test_scaled)"
   ]
  },
  {
   "cell_type": "markdown",
   "id": "85869459-87ff-49b0-8dfe-9b6b8ea4bf9c",
   "metadata": {},
   "source": [
    "# 📊 Step 5: Evaluation - Linear Kernel"
   ]
  },
  {
   "cell_type": "code",
   "execution_count": 6,
   "id": "065257ed-d14f-4d5b-bde9-efbe562d4052",
   "metadata": {},
   "outputs": [
    {
     "name": "stdout",
     "output_type": "stream",
     "text": [
      "Linear SVM Accuracy: 0.956140350877193\n",
      "[[41  2]\n",
      " [ 3 68]]\n",
      "              precision    recall  f1-score   support\n",
      "\n",
      "           0       0.93      0.95      0.94        43\n",
      "           1       0.97      0.96      0.96        71\n",
      "\n",
      "    accuracy                           0.96       114\n",
      "   macro avg       0.95      0.96      0.95       114\n",
      "weighted avg       0.96      0.96      0.96       114\n",
      "\n"
     ]
    }
   ],
   "source": [
    "print(\"Linear SVM Accuracy:\", accuracy_score(y_test, y_pred_linear))\n",
    "print(confusion_matrix(y_test, y_pred_linear))\n",
    "print(classification_report(y_test, y_pred_linear))"
   ]
  },
  {
   "cell_type": "markdown",
   "id": "b291ee00-8d8a-495b-9c4b-e36e985b0879",
   "metadata": {},
   "source": [
    "# 🌐 Step 6: Train SVM with RBF Kernel"
   ]
  },
  {
   "cell_type": "code",
   "execution_count": 7,
   "id": "ff82965f-898d-421b-8356-4d8ef36e6ff7",
   "metadata": {},
   "outputs": [],
   "source": [
    "rbf_svm = SVC(kernel='rbf', C=1.0, gamma='scale')\n",
    "rbf_svm.fit(X_train_scaled, y_train)\n",
    "y_pred_rbf = rbf_svm.predict(X_test_scaled)"
   ]
  },
  {
   "cell_type": "markdown",
   "id": "ca35d2f5-7c17-471c-ac7b-c46a91508d2d",
   "metadata": {},
   "source": [
    "# 📊 Step 7: Evaluation - RBF Kernel"
   ]
  },
  {
   "cell_type": "code",
   "execution_count": 8,
   "id": "feadfdfc-72db-469d-a986-1cfa453394dc",
   "metadata": {},
   "outputs": [
    {
     "name": "stdout",
     "output_type": "stream",
     "text": [
      "RBF SVM Accuracy: 0.9824561403508771\n",
      "[[41  2]\n",
      " [ 0 71]]\n",
      "              precision    recall  f1-score   support\n",
      "\n",
      "           0       1.00      0.95      0.98        43\n",
      "           1       0.97      1.00      0.99        71\n",
      "\n",
      "    accuracy                           0.98       114\n",
      "   macro avg       0.99      0.98      0.98       114\n",
      "weighted avg       0.98      0.98      0.98       114\n",
      "\n"
     ]
    }
   ],
   "source": [
    "print(\"RBF SVM Accuracy:\", accuracy_score(y_test, y_pred_rbf))\n",
    "print(confusion_matrix(y_test, y_pred_rbf))\n",
    "print(classification_report(y_test, y_pred_rbf))\n"
   ]
  },
  {
   "cell_type": "markdown",
   "id": "3f8f4b36-db3a-42b7-b922-663bbad7dca8",
   "metadata": {},
   "source": [
    "# 🔍 Step 8: Cross-Validation"
   ]
  },
  {
   "cell_type": "code",
   "execution_count": 9,
   "id": "deecf926-3178-42a9-ac53-5247e1dd648b",
   "metadata": {},
   "outputs": [
    {
     "name": "stdout",
     "output_type": "stream",
     "text": [
      "Cross-Validation Scores: [0.85087719 0.89473684 0.92982456 0.94736842 0.9380531 ]\n",
      "Mean CV Score: 0.9121720229777983\n"
     ]
    }
   ],
   "source": [
    "cv_scores = cross_val_score(rbf_svm, X, y, cv=5)\n",
    "print(\"Cross-Validation Scores:\", cv_scores)\n",
    "print(\"Mean CV Score:\", np.mean(cv_scores))\n"
   ]
  },
  {
   "cell_type": "markdown",
   "id": "3260c5e4-99d4-4ff4-8c09-6583f442c3dc",
   "metadata": {},
   "source": [
    "# 💾 Step 9: Save the Model"
   ]
  },
  {
   "cell_type": "code",
   "execution_count": 11,
   "id": "5478c760-66ad-44bb-8cb2-ebc112bbc325",
   "metadata": {},
   "outputs": [],
   "source": [
    "with open('svm_model_task7.pkl', 'wb') as file:\n",
    "    pickle.dump(rbf_svm, file)"
   ]
  },
  {
   "cell_type": "markdown",
   "id": "ad6ec076-631d-4e23-a24f-40f567b8ec48",
   "metadata": {},
   "source": [
    "# ✅ Task Completed"
   ]
  },
  {
   "cell_type": "code",
   "execution_count": null,
   "id": "c6a65a80-0e32-41f7-a67a-fb5f5500c660",
   "metadata": {},
   "outputs": [],
   "source": []
  }
 ],
 "metadata": {
  "kernelspec": {
   "display_name": "Python 3.11 (custom)",
   "language": "python",
   "name": "python311"
  },
  "language_info": {
   "codemirror_mode": {
    "name": "ipython",
    "version": 3
   },
   "file_extension": ".py",
   "mimetype": "text/x-python",
   "name": "python",
   "nbconvert_exporter": "python",
   "pygments_lexer": "ipython3",
   "version": "3.11.0"
  }
 },
 "nbformat": 4,
 "nbformat_minor": 5
}
